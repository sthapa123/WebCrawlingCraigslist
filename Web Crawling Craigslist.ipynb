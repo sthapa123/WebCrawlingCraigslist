{
 "cells": [
  {
   "cell_type": "markdown",
   "metadata": {},
   "source": [
    "<h2>Demo: Web Scraping with BeautifulSoup</h2>\n",
    "This demo shows the usage of BeautifulSoup to crawl an ad listings in Craigslist"
   ]
  },
  {
   "cell_type": "code",
   "execution_count": 1,
   "metadata": {},
   "outputs": [],
   "source": [
    "from bs4 import BeautifulSoup\n",
    "import requests\n",
    "import urllib\n",
    "import re\n",
    "import pandas as pd"
   ]
  },
  {
   "cell_type": "markdown",
   "metadata": {},
   "source": [
    "Go to https://www.craigslist.org and select an ad url"
   ]
  },
  {
   "cell_type": "code",
   "execution_count": 2,
   "metadata": {},
   "outputs": [],
   "source": [
    "url = \"https://minneapolis.craigslist.org/d/cars-trucks/search/cta\"\n",
    "\n",
    "from urllib.request import urlopen\n",
    "page = urlopen(url)\n",
    "soup = BeautifulSoup(page, 'lxml')\n",
    "# Get all links to the ads\n",
    "all_matches = soup.find_all('a', class_='result-title hdrlnk')\n",
    "ad_links = []\n",
    "for i in all_matches:\n",
    "    #print (i['href'])\n",
    "    ad_links.append(i['href'])\n",
    "#print(ad_links)"
   ]
  },
  {
   "cell_type": "code",
   "execution_count": 3,
   "metadata": {},
   "outputs": [],
   "source": [
    "ad_title = []\n",
    "item_price = []\n",
    "ad_description = []\n",
    "\n",
    "for ad_url in ad_links:\n",
    "    ad_page = urlopen(ad_url)\n",
    "    ad_soup = BeautifulSoup(ad_page, 'lxml')\n",
    "    ad_title.append(ad_soup.find(class_=\"postingtitletext\").text)\n",
    "    item_price.append(ad_soup.find(class_=\"price\").text)\n",
    "    ad_description.append(ad_soup.find(id = \"postingbody\").text.replace(\"QR Code Link to This Post\",\"\"))"
   ]
  },
  {
   "cell_type": "code",
   "execution_count": 4,
   "metadata": {},
   "outputs": [],
   "source": [
    "ad = {\n",
    "    'Ad Title': ad_title,\n",
    "    'Item Price': item_price,\n",
    "    'Ad Description': ad_description\n",
    "}\n",
    "df = pd.DataFrame.from_dict(ad)"
   ]
  },
  {
   "cell_type": "code",
   "execution_count": 5,
   "metadata": {},
   "outputs": [
    {
     "data": {
      "text/html": [
       "<div>\n",
       "<style scoped>\n",
       "    .dataframe tbody tr th:only-of-type {\n",
       "        vertical-align: middle;\n",
       "    }\n",
       "\n",
       "    .dataframe tbody tr th {\n",
       "        vertical-align: top;\n",
       "    }\n",
       "\n",
       "    .dataframe thead th {\n",
       "        text-align: right;\n",
       "    }\n",
       "</style>\n",
       "<table border=\"1\" class=\"dataframe\">\n",
       "  <thead>\n",
       "    <tr style=\"text-align: right;\">\n",
       "      <th></th>\n",
       "      <th>Ad Title</th>\n",
       "      <th>Item Price</th>\n",
       "      <th>Ad Description</th>\n",
       "    </tr>\n",
       "  </thead>\n",
       "  <tbody>\n",
       "    <tr>\n",
       "      <th>0</th>\n",
       "      <td>\\n2005 Buick Lesabre - $1400 (Buffalo)</td>\n",
       "      <td>$1400</td>\n",
       "      <td>\\n\\n\\n\\n\\n2005 buick lesabre. 3800v6 264k. Run...</td>\n",
       "    </tr>\n",
       "    <tr>\n",
       "      <th>1</th>\n",
       "      <td>\\n2006 Infiniti G35x - $4999 (Lakeville)</td>\n",
       "      <td>$4999</td>\n",
       "      <td>\\n\\n\\n\\n\\n162,800 miles\\nNewer tires\\nBrand ne...</td>\n",
       "    </tr>\n",
       "    <tr>\n",
       "      <th>2</th>\n",
       "      <td>\\n2006 Mazda 3 - $3900 (Woodbury)</td>\n",
       "      <td>$3900</td>\n",
       "      <td>\\n\\n\\n\\n\\nThese cars must be common because wh...</td>\n",
       "    </tr>\n",
       "    <tr>\n",
       "      <th>3</th>\n",
       "      <td>\\nGreen 2000 Jeep Grand Cherokee Laredo - $200...</td>\n",
       "      <td>$2000</td>\n",
       "      <td>\\n\\n\\n\\n\\nI'm selling my 2000 Jeep Grand Chero...</td>\n",
       "    </tr>\n",
       "    <tr>\n",
       "      <th>4</th>\n",
       "      <td>\\n2011 Acura RDX - $9995 (Lake Elmo)</td>\n",
       "      <td>$9995</td>\n",
       "      <td>\\n\\n\\n\\n\\n2011 Acura RDX SH AWD.only 86678 mil...</td>\n",
       "    </tr>\n",
       "    <tr>\n",
       "      <th>...</th>\n",
       "      <td>...</td>\n",
       "      <td>...</td>\n",
       "      <td>...</td>\n",
       "    </tr>\n",
       "    <tr>\n",
       "      <th>115</th>\n",
       "      <td>\\n2007 Lexus LS 460 SWB - $11500 (Dakota County)</td>\n",
       "      <td>$11500</td>\n",
       "      <td>\\n\\n\\n\\n\\ngorgeous 2007 Lexus LS 460 V8 Luxury...</td>\n",
       "    </tr>\n",
       "    <tr>\n",
       "      <th>116</th>\n",
       "      <td>\\n2009 Mercedes GL320 4Matic 4WD w/Navi, 20\" W...</td>\n",
       "      <td>$11950</td>\n",
       "      <td>\\n\\n\\n\\n\\n\\n2009 Mercedes-Benz GL320 BlueTEC 4...</td>\n",
       "    </tr>\n",
       "    <tr>\n",
       "      <th>117</th>\n",
       "      <td>\\n2004 Honda crv - $2600 (Eagan)</td>\n",
       "      <td>$2600</td>\n",
       "      <td>\\n\\n\\n\\n\\nRuns and drives great. Needs nothing...</td>\n",
       "    </tr>\n",
       "    <tr>\n",
       "      <th>118</th>\n",
       "      <td>\\n2013 *Toyota* *Sienna* *LE* Predawn Gray Mic...</td>\n",
       "      <td>$11246</td>\n",
       "      <td>\\n\\n\\n\\n\\n\\n2013 *Toyota* *Sienna* LE Van FWD ...</td>\n",
       "    </tr>\n",
       "    <tr>\n",
       "      <th>119</th>\n",
       "      <td>\\n2008 Infiniti QX56 Luxury SUV - $6500</td>\n",
       "      <td>$6500</td>\n",
       "      <td>\\n\\n\\n\\n\\nSelling our family SUV 2008 Infiniti...</td>\n",
       "    </tr>\n",
       "  </tbody>\n",
       "</table>\n",
       "<p>120 rows × 3 columns</p>\n",
       "</div>"
      ],
      "text/plain": [
       "                                              Ad Title Item Price  \\\n",
       "0              \\n2005 Buick Lesabre - $1400 (Buffalo)       $1400   \n",
       "1            \\n2006 Infiniti G35x - $4999 (Lakeville)       $4999   \n",
       "2                   \\n2006 Mazda 3 - $3900 (Woodbury)       $3900   \n",
       "3    \\nGreen 2000 Jeep Grand Cherokee Laredo - $200...      $2000   \n",
       "4                \\n2011 Acura RDX - $9995 (Lake Elmo)       $9995   \n",
       "..                                                 ...        ...   \n",
       "115  \\n2007 Lexus LS 460 SWB - $11500 (Dakota County)      $11500   \n",
       "116  \\n2009 Mercedes GL320 4Matic 4WD w/Navi, 20\" W...     $11950   \n",
       "117                  \\n2004 Honda crv - $2600 (Eagan)       $2600   \n",
       "118  \\n2013 *Toyota* *Sienna* *LE* Predawn Gray Mic...     $11246   \n",
       "119           \\n2008 Infiniti QX56 Luxury SUV - $6500       $6500   \n",
       "\n",
       "                                        Ad Description  \n",
       "0    \\n\\n\\n\\n\\n2005 buick lesabre. 3800v6 264k. Run...  \n",
       "1    \\n\\n\\n\\n\\n162,800 miles\\nNewer tires\\nBrand ne...  \n",
       "2    \\n\\n\\n\\n\\nThese cars must be common because wh...  \n",
       "3    \\n\\n\\n\\n\\nI'm selling my 2000 Jeep Grand Chero...  \n",
       "4    \\n\\n\\n\\n\\n2011 Acura RDX SH AWD.only 86678 mil...  \n",
       "..                                                 ...  \n",
       "115  \\n\\n\\n\\n\\ngorgeous 2007 Lexus LS 460 V8 Luxury...  \n",
       "116  \\n\\n\\n\\n\\n\\n2009 Mercedes-Benz GL320 BlueTEC 4...  \n",
       "117  \\n\\n\\n\\n\\nRuns and drives great. Needs nothing...  \n",
       "118  \\n\\n\\n\\n\\n\\n2013 *Toyota* *Sienna* LE Van FWD ...  \n",
       "119  \\n\\n\\n\\n\\nSelling our family SUV 2008 Infiniti...  \n",
       "\n",
       "[120 rows x 3 columns]"
      ]
     },
     "execution_count": 5,
     "metadata": {},
     "output_type": "execute_result"
    }
   ],
   "source": [
    "df"
   ]
  },
  {
   "cell_type": "code",
   "execution_count": null,
   "metadata": {},
   "outputs": [],
   "source": []
  }
 ],
 "metadata": {
  "kernelspec": {
   "display_name": "Python 3",
   "language": "python",
   "name": "python3"
  },
  "language_info": {
   "codemirror_mode": {
    "name": "ipython",
    "version": 3
   },
   "file_extension": ".py",
   "mimetype": "text/x-python",
   "name": "python",
   "nbconvert_exporter": "python",
   "pygments_lexer": "ipython3",
   "version": "3.7.6"
  }
 },
 "nbformat": 4,
 "nbformat_minor": 4
}
